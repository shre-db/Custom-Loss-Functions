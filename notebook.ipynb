{
 "cells": [
  {
   "cell_type": "code",
   "execution_count": 1,
   "metadata": {},
   "outputs": [],
   "source": [
    "import numpy as np\n",
    "import matplotlib.pyplot as plt\n",
    "plt.style.use('dark_background')\n",
    "\n",
    "import torch\n",
    "import torch.nn as nn\n",
    "import torch.nn.functional as F"
   ]
  },
  {
   "cell_type": "markdown",
   "metadata": {},
   "source": [
    "**L1 Loss**\n",
    "$$\\mathcal{L}(\\hat y, y) = n^{-1}\\displaystyle\\sum_{i=1}^{n}|\\hat y_i - y_i|$$"
   ]
  },
  {
   "cell_type": "code",
   "execution_count": null,
   "metadata": {},
   "outputs": [],
   "source": [
    "class L1Loss(nn.Module):\n",
    "    \"\"\"\n",
    "    Computes the mean of absolute differences between predictions and ground truths.\n",
    "    \"\"\"\n",
    "    def __init__(self, *args, **kwargs) -> None:\n",
    "        super().__init__(*args, **kwargs)\n",
    "\n",
    "    def forward(self, yHat: torch.Tensor, y: torch.Tensor) -> torch.Tensor:\n",
    "        \"\"\"\n",
    "        Computes the L1Loss.\n",
    "\n",
    "        Parameters\n",
    "        ----------\n",
    "        - yHat (torch.Tensor): Predictions from the model.\n",
    "        - y (torch.Tensor): Ground truth or labels. \n",
    "        \"\"\"\n",
    "        l = torch.mean(torch.abs(yHat - y))\n",
    "        return l"
   ]
  },
  {
   "cell_type": "markdown",
   "metadata": {},
   "source": [
    "**L2AveLoss**\n",
    "$$\\mathcal{L}(\\hat y, y) = n^{-1} \\displaystyle\\sum_{i=1}^{n}(\\hat y_i - y_i)^2 + n^{-1}\\Bigg |\\displaystyle\\sum_{i=1}^{n}\\hat y_i \\Bigg |$$"
   ]
  },
  {
   "cell_type": "code",
   "execution_count": null,
   "metadata": {},
   "outputs": [],
   "source": [
    "class L2AveLoss(nn.Module):\n",
    "    \"\"\"\n",
    "    Computes the sum of MSE and absolute average of predictions.\n",
    "    \"\"\"\n",
    "    def __init__(self, *args, **kwargs) -> None:\n",
    "        super().__init__(*args, **kwargs)\n",
    "\n",
    "    def forward(self, yHat, y):\n",
    "        \"\"\"\n",
    "        Computes the L2AveLoss.\n",
    "\n",
    "        Parameters\n",
    "        ----------\n",
    "        - yHat (torch.Tensor): Predictions from the model.\n",
    "        - y (torch.Tensor): Ground truth or labels.\n",
    "        \"\"\"\n",
    "        # MSE\n",
    "        mse = torch.mean((yHat-y)**2)\n",
    "\n",
    "        # Average part\n",
    "        mean = torch.abs(torch.mean(yHat))\n",
    "\n",
    "        return mse + mean"
   ]
  },
  {
   "cell_type": "markdown",
   "metadata": {},
   "source": [
    "**CorrLoss**\n",
    "$$\\mathcal{L}(\\hat y, y) = -\\frac{\\displaystyle\\sum(\\hat y - \\mu_{\\hat y})(y - \\mu_y)}{(n-1)\\sigma_{\\hat y}\\sigma_{y}}$$"
   ]
  },
  {
   "cell_type": "code",
   "execution_count": null,
   "metadata": {},
   "outputs": [],
   "source": [
    "class CorrLoss(nn.Module):\n",
    "    \"\"\"\n",
    "    Computes the correlation between predictions and ground truths.\n",
    "    \"\"\"\n",
    "    def __init__(self, *args, **kwargs) -> None:\n",
    "        super().__init__(*args, **kwargs)\n",
    "\n",
    "    def forward(self, yHat, y):\n",
    "        \"\"\"\n",
    "        Computes the CorrLoss.\n",
    "\n",
    "        Parameters\n",
    "        ----------\n",
    "        - yHat (torch.Tensor): Predictions from the model.\n",
    "        - y (torch.Tensor): Ground truth or labels.\n",
    "        \"\"\"\n",
    "        mean_yHat = torch.mean(yHat)\n",
    "        mean_y = torch.mean(y)\n",
    "\n",
    "        numr = torch.sum((yHat - mean_yHat)*(y - mean_y))\n",
    "        denr = (torch.numel(y) - 1) * torch.std(yHat) * torch.std(y)\n",
    "        return -numr/denr"
   ]
  }
 ],
 "metadata": {
  "kernelspec": {
   "display_name": "deeplearning",
   "language": "python",
   "name": "python3"
  },
  "language_info": {
   "codemirror_mode": {
    "name": "ipython",
    "version": 3
   },
   "file_extension": ".py",
   "mimetype": "text/x-python",
   "name": "python",
   "nbconvert_exporter": "python",
   "pygments_lexer": "ipython3",
   "version": "3.9.16"
  },
  "orig_nbformat": 4
 },
 "nbformat": 4,
 "nbformat_minor": 2
}
